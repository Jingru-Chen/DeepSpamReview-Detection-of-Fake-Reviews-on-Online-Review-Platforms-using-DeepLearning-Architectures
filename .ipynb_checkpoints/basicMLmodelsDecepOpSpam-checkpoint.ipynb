{
 "cells": [
  {
   "cell_type": "code",
   "execution_count": 136,
   "metadata": {
    "_cell_guid": "b1076dfc-b9ad-4769-8c92-a6c4dae69d19",
    "_uuid": "8f2839f25d086af736a60e9eeb907d3b93b6e0e5"
   },
   "outputs": [
    {
     "name": "stdout",
     "output_type": "stream",
     "text": [
      "/kaggle/input/yelp-dataset-based-on-fake-reviewers/cleaned_data.csv\n",
      "/kaggle/input/deceptive-opinion-spam-corpus/deceptive-opinion.csv\n"
     ]
    }
   ],
   "source": [
    "# This Python 3 environment comes with many helpful analytics libraries installed\n",
    "# It is defined by the kaggle/python docker image: https://github.com/kaggle/docker-python\n",
    "# For example, here's several helpful packages to load in \n",
    "\n",
    "import numpy as np # linear algebra\n",
    "import pandas as pd # data processing, CSV file I/O (e.g. pd.read_csv)\n",
    "\n",
    "# Input data files are available in the \"../input/\" directory.\n",
    "# For example, running this (by clicking run or pressing Shift+Enter) will list all files under the input directory\n",
    "\n",
    "import os\n",
    "for dirname, _, filenames in os.walk('/kaggle/input'):\n",
    "    for filename in filenames:\n",
    "        print(os.path.join(dirname, filename))\n",
    "\n",
    "# Any results you write to the current directory are saved as output."
   ]
  },
  {
   "cell_type": "code",
   "execution_count": 137,
   "metadata": {},
   "outputs": [],
   "source": [
    "import re\n",
    "import string\n",
    "from nltk.corpus import stopwords\n",
    "from bs4 import BeautifulSoup\n",
    "import nltk\n",
    "from nltk.corpus import stopwords\n",
    "from nltk.stem import SnowballStemmer"
   ]
  },
  {
   "cell_type": "code",
   "execution_count": 138,
   "metadata": {},
   "outputs": [],
   "source": [
    "df = pd.read_csv('/kaggle/input/deceptive-opinion-spam-corpus/deceptive-opinion.csv')"
   ]
  },
  {
   "cell_type": "code",
   "execution_count": 139,
   "metadata": {},
   "outputs": [
    {
     "data": {
      "text/html": [
       "<div>\n",
       "<style scoped>\n",
       "    .dataframe tbody tr th:only-of-type {\n",
       "        vertical-align: middle;\n",
       "    }\n",
       "\n",
       "    .dataframe tbody tr th {\n",
       "        vertical-align: top;\n",
       "    }\n",
       "\n",
       "    .dataframe thead th {\n",
       "        text-align: right;\n",
       "    }\n",
       "</style>\n",
       "<table border=\"1\" class=\"dataframe\">\n",
       "  <thead>\n",
       "    <tr style=\"text-align: right;\">\n",
       "      <th></th>\n",
       "      <th>deceptive</th>\n",
       "      <th>hotel</th>\n",
       "      <th>polarity</th>\n",
       "      <th>source</th>\n",
       "      <th>text</th>\n",
       "    </tr>\n",
       "  </thead>\n",
       "  <tbody>\n",
       "    <tr>\n",
       "      <th>0</th>\n",
       "      <td>truthful</td>\n",
       "      <td>conrad</td>\n",
       "      <td>positive</td>\n",
       "      <td>TripAdvisor</td>\n",
       "      <td>We stayed for a one night getaway with family ...</td>\n",
       "    </tr>\n",
       "    <tr>\n",
       "      <th>1</th>\n",
       "      <td>truthful</td>\n",
       "      <td>hyatt</td>\n",
       "      <td>positive</td>\n",
       "      <td>TripAdvisor</td>\n",
       "      <td>Triple A rate with upgrade to view room was le...</td>\n",
       "    </tr>\n",
       "    <tr>\n",
       "      <th>2</th>\n",
       "      <td>truthful</td>\n",
       "      <td>hyatt</td>\n",
       "      <td>positive</td>\n",
       "      <td>TripAdvisor</td>\n",
       "      <td>This comes a little late as I'm finally catchi...</td>\n",
       "    </tr>\n",
       "    <tr>\n",
       "      <th>3</th>\n",
       "      <td>truthful</td>\n",
       "      <td>omni</td>\n",
       "      <td>positive</td>\n",
       "      <td>TripAdvisor</td>\n",
       "      <td>The Omni Chicago really delivers on all fronts...</td>\n",
       "    </tr>\n",
       "    <tr>\n",
       "      <th>4</th>\n",
       "      <td>truthful</td>\n",
       "      <td>hyatt</td>\n",
       "      <td>positive</td>\n",
       "      <td>TripAdvisor</td>\n",
       "      <td>I asked for a high floor away from the elevato...</td>\n",
       "    </tr>\n",
       "  </tbody>\n",
       "</table>\n",
       "</div>"
      ],
      "text/plain": [
       "  deceptive   hotel  polarity       source  \\\n",
       "0  truthful  conrad  positive  TripAdvisor   \n",
       "1  truthful   hyatt  positive  TripAdvisor   \n",
       "2  truthful   hyatt  positive  TripAdvisor   \n",
       "3  truthful    omni  positive  TripAdvisor   \n",
       "4  truthful   hyatt  positive  TripAdvisor   \n",
       "\n",
       "                                                text  \n",
       "0  We stayed for a one night getaway with family ...  \n",
       "1  Triple A rate with upgrade to view room was le...  \n",
       "2  This comes a little late as I'm finally catchi...  \n",
       "3  The Omni Chicago really delivers on all fronts...  \n",
       "4  I asked for a high floor away from the elevato...  "
      ]
     },
     "execution_count": 139,
     "metadata": {},
     "output_type": "execute_result"
    }
   ],
   "source": [
    "df.head()"
   ]
  },
  {
   "cell_type": "code",
   "execution_count": 140,
   "metadata": {},
   "outputs": [],
   "source": [
    "df = df.drop([\"hotel\", \"polarity\",\"source\"], axis=1)"
   ]
  },
  {
   "cell_type": "code",
   "execution_count": 141,
   "metadata": {},
   "outputs": [],
   "source": [
    "df = df.sample(frac=1)"
   ]
  },
  {
   "cell_type": "code",
   "execution_count": 142,
   "metadata": {},
   "outputs": [
    {
     "data": {
      "text/html": [
       "<div>\n",
       "<style scoped>\n",
       "    .dataframe tbody tr th:only-of-type {\n",
       "        vertical-align: middle;\n",
       "    }\n",
       "\n",
       "    .dataframe tbody tr th {\n",
       "        vertical-align: top;\n",
       "    }\n",
       "\n",
       "    .dataframe thead th {\n",
       "        text-align: right;\n",
       "    }\n",
       "</style>\n",
       "<table border=\"1\" class=\"dataframe\">\n",
       "  <thead>\n",
       "    <tr style=\"text-align: right;\">\n",
       "      <th></th>\n",
       "      <th>deceptive</th>\n",
       "      <th>text</th>\n",
       "    </tr>\n",
       "  </thead>\n",
       "  <tbody>\n",
       "    <tr>\n",
       "      <th>494</th>\n",
       "      <td>deceptive</td>\n",
       "      <td>Homewood Suites by Hilton Chicago Downtown is ...</td>\n",
       "    </tr>\n",
       "    <tr>\n",
       "      <th>1547</th>\n",
       "      <td>deceptive</td>\n",
       "      <td>When I first made reservations at The Palmer H...</td>\n",
       "    </tr>\n",
       "    <tr>\n",
       "      <th>782</th>\n",
       "      <td>deceptive</td>\n",
       "      <td>The Palmer House Hilton was recommended to me ...</td>\n",
       "    </tr>\n",
       "    <tr>\n",
       "      <th>75</th>\n",
       "      <td>truthful</td>\n",
       "      <td>The reviews we read were a bit mixed, but I th...</td>\n",
       "    </tr>\n",
       "    <tr>\n",
       "      <th>1421</th>\n",
       "      <td>deceptive</td>\n",
       "      <td>My wife and I stayed at the Ambassador East Ho...</td>\n",
       "    </tr>\n",
       "  </tbody>\n",
       "</table>\n",
       "</div>"
      ],
      "text/plain": [
       "      deceptive                                               text\n",
       "494   deceptive  Homewood Suites by Hilton Chicago Downtown is ...\n",
       "1547  deceptive  When I first made reservations at The Palmer H...\n",
       "782   deceptive  The Palmer House Hilton was recommended to me ...\n",
       "75     truthful  The reviews we read were a bit mixed, but I th...\n",
       "1421  deceptive  My wife and I stayed at the Ambassador East Ho..."
      ]
     },
     "execution_count": 142,
     "metadata": {},
     "output_type": "execute_result"
    }
   ],
   "source": [
    "df.head()"
   ]
  },
  {
   "cell_type": "code",
   "execution_count": 143,
   "metadata": {},
   "outputs": [
    {
     "data": {
      "text/plain": [
       "array([0, 1])"
      ]
     },
     "execution_count": 143,
     "metadata": {},
     "output_type": "execute_result"
    }
   ],
   "source": [
    "from sklearn import preprocessing \n",
    "\n",
    "# label_encoder object knows how to understand word labels. \n",
    "label_encoder = preprocessing.LabelEncoder() \n",
    "\n",
    "# Encode labels in column 'species'. \n",
    "df['deceptive']= label_encoder.fit_transform(df['deceptive']) \n",
    "\n",
    "df['deceptive'].unique() "
   ]
  },
  {
   "cell_type": "code",
   "execution_count": 144,
   "metadata": {},
   "outputs": [
    {
     "data": {
      "text/html": [
       "<div>\n",
       "<style scoped>\n",
       "    .dataframe tbody tr th:only-of-type {\n",
       "        vertical-align: middle;\n",
       "    }\n",
       "\n",
       "    .dataframe tbody tr th {\n",
       "        vertical-align: top;\n",
       "    }\n",
       "\n",
       "    .dataframe thead th {\n",
       "        text-align: right;\n",
       "    }\n",
       "</style>\n",
       "<table border=\"1\" class=\"dataframe\">\n",
       "  <thead>\n",
       "    <tr style=\"text-align: right;\">\n",
       "      <th></th>\n",
       "      <th>deceptive</th>\n",
       "      <th>text</th>\n",
       "    </tr>\n",
       "  </thead>\n",
       "  <tbody>\n",
       "    <tr>\n",
       "      <th>494</th>\n",
       "      <td>0</td>\n",
       "      <td>Homewood Suites by Hilton Chicago Downtown is ...</td>\n",
       "    </tr>\n",
       "    <tr>\n",
       "      <th>1547</th>\n",
       "      <td>0</td>\n",
       "      <td>When I first made reservations at The Palmer H...</td>\n",
       "    </tr>\n",
       "    <tr>\n",
       "      <th>782</th>\n",
       "      <td>0</td>\n",
       "      <td>The Palmer House Hilton was recommended to me ...</td>\n",
       "    </tr>\n",
       "    <tr>\n",
       "      <th>75</th>\n",
       "      <td>1</td>\n",
       "      <td>The reviews we read were a bit mixed, but I th...</td>\n",
       "    </tr>\n",
       "    <tr>\n",
       "      <th>1421</th>\n",
       "      <td>0</td>\n",
       "      <td>My wife and I stayed at the Ambassador East Ho...</td>\n",
       "    </tr>\n",
       "  </tbody>\n",
       "</table>\n",
       "</div>"
      ],
      "text/plain": [
       "      deceptive                                               text\n",
       "494           0  Homewood Suites by Hilton Chicago Downtown is ...\n",
       "1547          0  When I first made reservations at The Palmer H...\n",
       "782           0  The Palmer House Hilton was recommended to me ...\n",
       "75            1  The reviews we read were a bit mixed, but I th...\n",
       "1421          0  My wife and I stayed at the Ambassador East Ho..."
      ]
     },
     "execution_count": 144,
     "metadata": {},
     "output_type": "execute_result"
    }
   ],
   "source": [
    "df.head()"
   ]
  },
  {
   "cell_type": "code",
   "execution_count": 145,
   "metadata": {},
   "outputs": [
    {
     "data": {
      "text/html": [
       "<div>\n",
       "<style scoped>\n",
       "    .dataframe tbody tr th:only-of-type {\n",
       "        vertical-align: middle;\n",
       "    }\n",
       "\n",
       "    .dataframe tbody tr th {\n",
       "        vertical-align: top;\n",
       "    }\n",
       "\n",
       "    .dataframe thead tr th {\n",
       "        text-align: left;\n",
       "    }\n",
       "\n",
       "    .dataframe thead tr:last-of-type th {\n",
       "        text-align: right;\n",
       "    }\n",
       "</style>\n",
       "<table border=\"1\" class=\"dataframe\">\n",
       "  <thead>\n",
       "    <tr>\n",
       "      <th></th>\n",
       "      <th colspan=\"4\" halign=\"left\">text</th>\n",
       "    </tr>\n",
       "    <tr>\n",
       "      <th></th>\n",
       "      <th>count</th>\n",
       "      <th>unique</th>\n",
       "      <th>top</th>\n",
       "      <th>freq</th>\n",
       "    </tr>\n",
       "    <tr>\n",
       "      <th>deceptive</th>\n",
       "      <th></th>\n",
       "      <th></th>\n",
       "      <th></th>\n",
       "      <th></th>\n",
       "    </tr>\n",
       "  </thead>\n",
       "  <tbody>\n",
       "    <tr>\n",
       "      <th>0</th>\n",
       "      <td>800</td>\n",
       "      <td>800</td>\n",
       "      <td>I stayed at the Swissotel Chicago while I was ...</td>\n",
       "      <td>1</td>\n",
       "    </tr>\n",
       "    <tr>\n",
       "      <th>1</th>\n",
       "      <td>800</td>\n",
       "      <td>796</td>\n",
       "      <td>Very disappointed in our stay in Chicago Monoc...</td>\n",
       "      <td>2</td>\n",
       "    </tr>\n",
       "  </tbody>\n",
       "</table>\n",
       "</div>"
      ],
      "text/plain": [
       "           text                                                               \n",
       "          count unique                                                top freq\n",
       "deceptive                                                                     \n",
       "0           800    800  I stayed at the Swissotel Chicago while I was ...    1\n",
       "1           800    796  Very disappointed in our stay in Chicago Monoc...    2"
      ]
     },
     "execution_count": 145,
     "metadata": {},
     "output_type": "execute_result"
    }
   ],
   "source": [
    "#dataset description #truthful=1 deceptive=0\n",
    "df.groupby('deceptive').describe()"
   ]
  },
  {
   "cell_type": "code",
   "execution_count": 146,
   "metadata": {},
   "outputs": [],
   "source": [
    "def clean_text(text):\n",
    "    \n",
    "    ## Remove puncuation\n",
    "    text = text.translate(string.punctuation)\n",
    "    \n",
    "    ## Convert words to lower case and split them\n",
    "    text = text.lower().split()\n",
    "    \n",
    "    ## Remove stop words\n",
    "    stops = set(stopwords.words(\"english\"))\n",
    "    text = [w for w in text if not w in stops and len(w) >= 3]\n",
    "    \n",
    "    text = \" \".join(text)\n",
    "\n",
    "    # Clean the text\n",
    "    text = re.sub(r\"[^A-Za-z0-9^,!.\\/'+-=]\", \" \", text)\n",
    "    text = re.sub(r\"what's\", \"what is \", text)\n",
    "    text = re.sub(r\"\\'s\", \" \", text)\n",
    "    text = re.sub(r\"\\'ve\", \" have \", text)\n",
    "    text = re.sub(r\"n't\", \" not \", text)\n",
    "    text = re.sub(r\"i'm\", \"i am \", text)\n",
    "    text = re.sub(r\"\\'re\", \" are \", text)\n",
    "    text = re.sub(r\"\\'d\", \" would \", text)\n",
    "    text = re.sub(r\"\\'ll\", \" will \", text)\n",
    "    text = re.sub(r\",\", \" \", text)\n",
    "    text = re.sub(r\"\\.\", \" \", text)\n",
    "    text = re.sub(r\"!\", \" ! \", text)\n",
    "    text = re.sub(r\"\\/\", \" \", text)\n",
    "    text = re.sub(r\"\\^\", \" ^ \", text)\n",
    "    text = re.sub(r\"\\+\", \" + \", text)\n",
    "    text = re.sub(r\"\\-\", \" - \", text)\n",
    "    text = re.sub(r\"\\=\", \" = \", text)\n",
    "    text = re.sub(r\"'\", \" \", text)\n",
    "    text = re.sub(r\"(\\d+)(k)\", r\"\\g<1>000\", text)\n",
    "    text = re.sub(r\":\", \" : \", text)\n",
    "    text = re.sub(r\" e g \", \" eg \", text)\n",
    "    text = re.sub(r\" b g \", \" bg \", text)\n",
    "    text = re.sub(r\" u s \", \" american \", text)\n",
    "    text = re.sub(r\"\\0s\", \"0\", text)\n",
    "    text = re.sub(r\" 9 11 \", \"911\", text)\n",
    "    text = re.sub(r\"e - mail\", \"email\", text)\n",
    "    text = re.sub(r\"j k\", \"jk\", text)\n",
    "    text = re.sub(r\"\\s{2,}\", \" \", text)\n",
    "    \n",
    "    text = text.split()\n",
    "    stemmer = SnowballStemmer('english')\n",
    "    stemmed_words = [stemmer.stem(word) for word in text]\n",
    "    text = \" \".join(stemmed_words)\n",
    "\n",
    "    return text"
   ]
  },
  {
   "cell_type": "code",
   "execution_count": 147,
   "metadata": {},
   "outputs": [],
   "source": [
    "# Some preprocesssing that will be common to all the text classification methods\n",
    "\n",
    "puncts = [',', '.', '\"', ':', ')', '(', '-', '!', '?', '|', ';', \"'\", '$', '&', '/', '[', ']', '>', '%', '=', '#', '*', '+', '\\\\', '•',  '~', '@', '£', \n",
    " '·', '_', '{', '}', '©', '^', '®', '`',  '<', '→', '°', '€', '™', '›',  '♥', '←', '×', '§', '″', '′', 'Â', '█', '½', 'à', '…', \n",
    " '“', '★', '”', '–', '●', 'â', '►', '−', '¢', '²', '¬', '░', '¶', '↑', '±', '¿', '▾', '═', '¦', '║', '―', '¥', '▓', '—', '‹', '─', \n",
    " '▒', '：', '¼', '⊕', '▼', '▪', '†', '■', '’', '▀', '¨', '▄', '♫', '☆', 'é', '¯', '♦', '¤', '▲', 'è', '¸', '¾', 'Ã', '⋅', '‘', '∞', \n",
    " '∙', '）', '↓', '、', '│', '（', '»', '，', '♪', '╩', '╚', '³', '・', '╦', '╣', '╔', '╗', '▬', '❤', 'ï', 'Ø', '¹', '≤', '‡', '√', ]\n",
    "\n",
    "def clean_char(x):\n",
    "    x = str(x)\n",
    "    for punct in puncts:\n",
    "        if punct in x:\n",
    "            x = x.replace(punct, f' {punct} ')\n",
    "    return x"
   ]
  },
  {
   "cell_type": "code",
   "execution_count": 148,
   "metadata": {},
   "outputs": [],
   "source": [
    "def clean_numbers(x):\n",
    "    if bool(re.search(r'\\d', x)):\n",
    "        x = re.sub('[0-9]{5,}', '#####', x)\n",
    "        x = re.sub('[0-9]{4}', '####', x)\n",
    "        x = re.sub('[0-9]{3}', '###', x)\n",
    "        x = re.sub('[0-9]{2}', '##', x)\n",
    "    return x"
   ]
  },
  {
   "cell_type": "code",
   "execution_count": 149,
   "metadata": {},
   "outputs": [],
   "source": [
    "df['text'] = df['text'].map(lambda a: clean_numbers(a))"
   ]
  },
  {
   "cell_type": "code",
   "execution_count": 150,
   "metadata": {},
   "outputs": [],
   "source": [
    "df['text'] = df['text'].map(lambda a: clean_char(a))"
   ]
  },
  {
   "cell_type": "code",
   "execution_count": 151,
   "metadata": {},
   "outputs": [],
   "source": [
    "df['text'] = df['text'].map(lambda a: clean_text(a))"
   ]
  },
  {
   "cell_type": "code",
   "execution_count": 152,
   "metadata": {},
   "outputs": [
    {
     "data": {
      "text/plain": [
       "494     homewood suit hilton chicago downtown wonder h...\n",
       "1547    first made reserv palmer hous hilton excit gor...\n",
       "782     palmer hous hilton recommend friend visit chic...\n",
       "75      review read bit mix thought excel stay splendi...\n",
       "1421    wife stay ambassador east hotel last month son...\n",
       "447     hyatt regenc chicago hotel delight stay never ...\n",
       "1542    servic subpar room need better clean check cou...\n",
       "170     stay hard rock januari night locat michigan av...\n",
       "264     recent trip chicago attend major trade show pl...\n",
       "43      husband decid take trip chicago last minut qui...\n",
       "897     noisi constant water run pipe terribl much bet...\n",
       "1292    disappoint hotel stay swissotel enjoy much ser...\n",
       "1316    one better experi first arriv hotel tri get ro...\n",
       "331     wife redeem hilton reward point stay night pal...\n",
       "0       stay one night getaway famili thursday tripl a...\n",
       "1306    husband stay hotel suppos romant weekend far c...\n",
       "1085    disappoint stay chicago monoco stay mani time ...\n",
       "1121    use hotel first time chicago price classifi in...\n",
       "98      stay sheraton navi pier first weekend novemb p...\n",
       "981     book two room four month advanc talbott place ...\n",
       "926     travel chicago mani time busi expect hotel bas...\n",
       "559     stay hotel weekend thought realli nice bed ext...\n",
       "573     talbot hotel eleg place take wife husband week...\n",
       "529     swissotel chicago delight visit locat downtown...\n",
       "159     back knickerbock would give best rate believ b...\n",
       "70      wife stay middl februari took subway hotel har...\n",
       "968     request quiet room sever week advanc yet given...\n",
       "727     intercontinent hotel truli hidden treasur nest...\n",
       "133     perfect locat clean courteous staff ad great s...\n",
       "1567    although architectur hotel quaint posit teribl...\n",
       "                              ...                        \n",
       "608     stay two night meet upscal chain hotel clean s...\n",
       "1002    found hotel small luxuri hotel world booklet s...\n",
       "870     bare averag hotel premium price hotel beauti l...\n",
       "1271    whenev decid stay fairmont chicago millennium ...\n",
       "761     friend visit amalfi hotel last week chicago fo...\n",
       "1178    room wasveri tini warm give illus control temp...\n",
       "717     downtown chicago hilton best combin thing look...\n",
       "704     enjoy stay jame chicago much hotel eleg uber m...\n",
       "1177    fourth time stay allegro previous time noth go...\n",
       "304     strike architectur begin describ one best hote...\n",
       "1520    recent stay hotel allegro chicago busi trip sa...\n",
       "213     stay night great hotel updat room clean use ti...\n",
       "430     realli enjoy stay beauti hotel entir staff hel...\n",
       "448     omni chicago hotel offer great amen comfort ex...\n",
       "1392    wife stay abassador east hotel august attend a...\n",
       "1358    sheraton chicago hotel tower one wors hotel st...\n",
       "1154    locat good check ask non smoke room given floo...\n",
       "521     sheraton chicago hotel tower everyth could ask...\n",
       "1018    book travel websit hotel current undergo major...\n",
       "147     recent celebr anniversari chicago stay sherato...\n",
       "639     husband came ambassador east hotel sister wed ...\n",
       "407     recent wed omni hotel chicago pleas decis use ...\n",
       "555     enjoy stay swissotel downtown chicago eleg cla...\n",
       "1064    hotel total overr yes locat awesom plenti near...\n",
       "1005    hotel shambl furnitur liter fall apart staff r...\n",
       "361     stay king suit hotel allegro memori day weeken...\n",
       "1250    advertis luxuri hotel conrad chicago goug gran...\n",
       "784     go chicago last month want nice hotel close re...\n",
       "480     first let say wonder wife refer hotel friend t...\n",
       "696     stay hilton chicago pleasur arriv departur sta...\n",
       "Name: text, Length: 1600, dtype: object"
      ]
     },
     "execution_count": 152,
     "metadata": {},
     "output_type": "execute_result"
    }
   ],
   "source": [
    "df['text']"
   ]
  },
  {
   "cell_type": "code",
   "execution_count": 153,
   "metadata": {},
   "outputs": [
    {
     "data": {
      "text/html": [
       "<div>\n",
       "<style scoped>\n",
       "    .dataframe tbody tr th:only-of-type {\n",
       "        vertical-align: middle;\n",
       "    }\n",
       "\n",
       "    .dataframe tbody tr th {\n",
       "        vertical-align: top;\n",
       "    }\n",
       "\n",
       "    .dataframe thead th {\n",
       "        text-align: right;\n",
       "    }\n",
       "</style>\n",
       "<table border=\"1\" class=\"dataframe\">\n",
       "  <thead>\n",
       "    <tr style=\"text-align: right;\">\n",
       "      <th></th>\n",
       "      <th>deceptive</th>\n",
       "    </tr>\n",
       "  </thead>\n",
       "  <tbody>\n",
       "    <tr>\n",
       "      <th>count</th>\n",
       "      <td>1600.000000</td>\n",
       "    </tr>\n",
       "    <tr>\n",
       "      <th>mean</th>\n",
       "      <td>0.500000</td>\n",
       "    </tr>\n",
       "    <tr>\n",
       "      <th>std</th>\n",
       "      <td>0.500156</td>\n",
       "    </tr>\n",
       "    <tr>\n",
       "      <th>min</th>\n",
       "      <td>0.000000</td>\n",
       "    </tr>\n",
       "    <tr>\n",
       "      <th>25%</th>\n",
       "      <td>0.000000</td>\n",
       "    </tr>\n",
       "    <tr>\n",
       "      <th>50%</th>\n",
       "      <td>0.500000</td>\n",
       "    </tr>\n",
       "    <tr>\n",
       "      <th>75%</th>\n",
       "      <td>1.000000</td>\n",
       "    </tr>\n",
       "    <tr>\n",
       "      <th>max</th>\n",
       "      <td>1.000000</td>\n",
       "    </tr>\n",
       "  </tbody>\n",
       "</table>\n",
       "</div>"
      ],
      "text/plain": [
       "         deceptive\n",
       "count  1600.000000\n",
       "mean      0.500000\n",
       "std       0.500156\n",
       "min       0.000000\n",
       "25%       0.000000\n",
       "50%       0.500000\n",
       "75%       1.000000\n",
       "max       1.000000"
      ]
     },
     "execution_count": 153,
     "metadata": {},
     "output_type": "execute_result"
    }
   ],
   "source": [
    "df.describe()"
   ]
  },
  {
   "cell_type": "code",
   "execution_count": 154,
   "metadata": {},
   "outputs": [
    {
     "name": "stdout",
     "output_type": "stream",
     "text": [
      "<class 'pandas.core.frame.DataFrame'>\n",
      "Int64Index: 1600 entries, 494 to 696\n",
      "Data columns (total 2 columns):\n",
      "deceptive    1600 non-null int64\n",
      "text         1600 non-null object\n",
      "dtypes: int64(1), object(1)\n",
      "memory usage: 37.5+ KB\n"
     ]
    }
   ],
   "source": [
    "df.info()"
   ]
  },
  {
   "cell_type": "code",
   "execution_count": 155,
   "metadata": {},
   "outputs": [],
   "source": [
    "x = df['text']\n",
    "y = df['deceptive']"
   ]
  },
  {
   "cell_type": "code",
   "execution_count": 156,
   "metadata": {},
   "outputs": [],
   "source": [
    "from sklearn.model_selection import train_test_split\n",
    "from sklearn.feature_extraction.text import CountVectorizer, TfidfVectorizer\n",
    "from sklearn.metrics import accuracy_score, confusion_matrix"
   ]
  },
  {
   "cell_type": "code",
   "execution_count": 157,
   "metadata": {},
   "outputs": [
    {
     "name": "stdout",
     "output_type": "stream",
     "text": [
      "Number of rows in the total set: 1600\n",
      "Number of rows in the training set: 1200\n",
      "Number of rows in the test set: 400\n"
     ]
    }
   ],
   "source": [
    "from sklearn.model_selection import train_test_split\n",
    "\n",
    "X_train, X_test, y_train, y_test = train_test_split(df['text'], df['deceptive'], random_state=5)\n",
    "print('Number of rows in the total set: {}'.format(df.shape[0]))\n",
    "print('Number of rows in the training set: {}'.format(X_train.shape[0]))\n",
    "print('Number of rows in the test set: {}'.format(X_test.shape[0]))"
   ]
  },
  {
   "cell_type": "code",
   "execution_count": 158,
   "metadata": {},
   "outputs": [
    {
     "data": {
      "text/plain": [
       "(894     general speak noth bad place would clean issu ...\n",
       " 471     husband stay short get away weekend love conve...\n",
       " 1455    made regular busi trip chicago decid stay hote...\n",
       " 595     magnific mile chicago great place visit stay a...\n",
       " 22      actual book reserv hotel phone got great rate ...\n",
       " 322     wife decid spend three day chicago last summer...\n",
       " 865     line check desk tremend long decid use compute...\n",
       " 1385    recent trip chicago stay ambassador east hotel...\n",
       " 862     omni chosen locat whichwork perfect bed wond e...\n",
       " 874     stay fairmont two saturday row stay disappoint...\n",
       " 1464    sofitel chicago water tower downtown area adve...\n",
       " 281     want nice place stay night dinner theater daug...\n",
       " 481     thank sheraton tower invit enjoy indoor pool g...\n",
       " 474     hyatt regenc chicago one beauti hotel ever sta...\n",
       " 690     hilton hotel help make trip chicago central lo...\n",
       " 680     stay sever differ hotel chicago jame best ever...\n",
       " 908     would recommend stay swissotel chicago travel ...\n",
       " 1206    chicago mani wonder luxuri hotel tourist busi ...\n",
       " 992     chicago skinni hope run wash rock star cece de...\n",
       " 1007    travel chicago visit daughter live citi supris...\n",
       " 1049    check sofitel chicago water tower day left hot...\n",
       " 1074    parent book five night jame locat good review ...\n",
       " 1122    stay pre construct nois problem other experien...\n",
       " 186     stylish hotel locat right north michigan avenu...\n",
       " 1424    stay hotel labor day weekend pretti aw staff r...\n",
       " 413     recent travel chicago busi confer lucki enough...\n",
       " 67      husband stay new year eve weekend excel hotel ...\n",
       " 225     prepar hotel old histor list updat done doubt ...\n",
       " 213     stay night great hotel updat room clean use ti...\n",
       " 397     hotel beauti excel locat minor issu hotel clea...\n",
       "                               ...                        \n",
       " 26      simpli nice place stay great deal room impress...\n",
       " 323     wife spent sever night getaway excurs choos pr...\n",
       " 797     last month husband stay intercontinent chicago...\n",
       " 1205    realli look forward nice relax stay end long v...\n",
       " 657     stay weekend visit friend town littl pricey de...\n",
       " 1077    locat ideal high ceil room appear much larger ...\n",
       " 1466    travel chicago stay sofitel chestnut street th...\n",
       " 1280    stay millennium knickerbock hotel chicago one ...\n",
       " 597     stay affinia last weekend ideal wait return to...\n",
       " 1176    stay amalfi night say read review expect littl...\n",
       " 399     second time stay much look forward weekend ama...\n",
       " 1032    sit hotel right review impress room hotel mode...\n",
       " 666     wife stay last weekend honeymoon wonder hotel ...\n",
       " 727     intercontinent hotel truli hidden treasur nest...\n",
       " 1465    stay hotel like jame price point expect certai...\n",
       " 59      great properti excel locat wonder staff everyo...\n",
       " 1546    hotel dizzi bold color pattern everywher smell...\n",
       " 1216    friend stay hyatt regenc chicago weekend visit...\n",
       " 76      husband wonder stay omni chicago hotel contact...\n",
       " 698     stay jame one bedroom apart two week chicago v...\n",
       " 204     hard rock hotel natur choic book block room se...\n",
       " 1067    hotel impress upon enter staff friend howev fe...\n",
       " 1035    stand craptast excus shower buttnak cold soap ...\n",
       " 1479    stay last august truli glad never stay websit ...\n",
       " 1069    recent return trip chicago husband babi anoth ...\n",
       " 1478    disappoint hotel front desk clerk rude person ...\n",
       " 957     say avoid place cost reserv assist took minut ...\n",
       " 254     hotel reserv anoth hotel set read negat review...\n",
       " 490     moment walk impress staff courteous knowledg a...\n",
       " 329     stay chicago night dec read review trip adviso...\n",
       " Name: text, Length: 1200, dtype: object,\n",
       " 1187    disappoint say least heard rave rave hotel all...\n",
       " 1258    hyatt regenc chicago basic cater guest want fe...\n",
       " 1474    visit chicago area chose hotel monaco chicago ...\n",
       " 41      paid night pricelin excel june room fantast vi...\n",
       " 1532    need find last minut hotel stay night came one...\n",
       " 607     write recent stay ambassador east hotel want l...\n",
       " 1503    found stay hotel monaco chicago less satisfact...\n",
       " 1159    stay palmer hous attend confer chicago state b...\n",
       " 1061    stay enthusiast posit review trip advisor yelp...\n",
       " 843     stay time around mark differ qualiti servic st...\n",
       " 910     upon first enter hotel greet friend help bellm...\n",
       " 117     visit chicago two teenag daughter homewood sui...\n",
       " 879     stay hotel week look forward stay top class ho...\n",
       " 840     fairmont hotel general prefer choic true disap...\n",
       " 541     hotel one superior hotel price reason benefit ...\n",
       " 1484    arriv find room readi despit past 3pm check ti...\n",
       " 810     outmod worn furnish combin poor origin design ...\n",
       " 646     ask better home base check downtown chicago ho...\n",
       " 989     stay talbott time alway like time first visit ...\n",
       " 347     love hotel six floor make easi get elev recept...\n",
       " 644     travel chicago husband romant weekend away sta...\n",
       " 1539    recent stay amalfi hotel chicago disappoint ri...\n",
       " 406     visit conrad chicago heart downtown luxuri exp...\n",
       " 198     stay great review true high impress high quali...\n",
       " 904     wife frequent stay downtown night citi mani ho...\n",
       " 1226    name conrad luxuri hilton hotel illicit noth i...\n",
       " 769     hotel allegro chicago beauti place origin drea...\n",
       " 1141    check room empti beer bottl dirti short closet...\n",
       " 1469    hotel monaco hotel say charact found decor tac...\n",
       " 877     pros con pros good locat nice staff clean room...\n",
       "                               ...                        \n",
       " 1331    recent stay homewood suit hilton chicago downt...\n",
       " 748     night ago stay hotel allegro theater district ...\n",
       " 320     return girl shop sight see trip palmer hous li...\n",
       " 1437    book room hotel expect great accommod consid p...\n",
       " 1349    stay three night recent hilton homewood suit d...\n",
       " 1208    origin chosen conrad chicago hotel locat near ...\n",
       " 278     need extra night chicago gratus stay penninsul...\n",
       " 1530    although intercontinent chicago hotel locat ma...\n",
       " 653     famili chose stay chicago hilton last trip cit...\n",
       " 1219    wife went chicago enjoy weekend stay hyatt reg...\n",
       " 572     got marri chicago area pass weeknd guest stay ...\n",
       " 802     2nd time stay hyatt regenc chicago first time ...\n",
       " 871     famili dub omni chicago fawlti tower alway see...\n",
       " 90      back busi trip homewood great locat magnific m...\n",
       " 421     windi citi fairmont hotel one chicago best rec...\n",
       " 1354    walk millennium knickerbock hotel first though...\n",
       " 967     back spend memori day weekend chicago decid st...\n",
       " 885     stay swissotel three day weekend disappoint se...\n",
       " 216     stay night apri check stay perfect round staff...\n",
       " 662     decid stay jame last weekend kid reserv famili...\n",
       " 1292    disappoint hotel stay swissotel enjoy much ser...\n",
       " 1241    latest busi trip wife recent stay omni chicago...\n",
       " 543     perfect place coupl get away locat better thre...\n",
       " 818     frustrat hotel post deal promin websit claim s...\n",
       " 1368    stay affina chicago anniversari hotel great lo...\n",
       " 1018    book travel websit hotel current undergo major...\n",
       " 1554    genuin surpris stay hotel wall paper thin coul...\n",
       " 1044    return jame hotel stay park hyatt stay chicago...\n",
       " 89      stay busi night realli like attract classi com...\n",
       " 1235    recent displeasur stay conrad chicago although...\n",
       " Name: text, Length: 400, dtype: object,\n",
       " 894     1\n",
       " 471     0\n",
       " 1455    0\n",
       " 595     0\n",
       " 22      1\n",
       " 322     1\n",
       " 865     1\n",
       " 1385    0\n",
       " 862     1\n",
       " 874     1\n",
       " 1464    0\n",
       " 281     1\n",
       " 481     0\n",
       " 474     0\n",
       " 690     0\n",
       " 680     0\n",
       " 908     1\n",
       " 1206    0\n",
       " 992     1\n",
       " 1007    1\n",
       " 1049    1\n",
       " 1074    1\n",
       " 1122    1\n",
       " 186     1\n",
       " 1424    0\n",
       " 413     0\n",
       " 67      1\n",
       " 225     1\n",
       " 213     1\n",
       " 397     1\n",
       "        ..\n",
       " 26      1\n",
       " 323     1\n",
       " 797     0\n",
       " 1205    0\n",
       " 657     0\n",
       " 1077    1\n",
       " 1466    0\n",
       " 1280    0\n",
       " 597     0\n",
       " 1176    1\n",
       " 399     1\n",
       " 1032    1\n",
       " 666     0\n",
       " 727     0\n",
       " 1465    0\n",
       " 59      1\n",
       " 1546    0\n",
       " 1216    0\n",
       " 76      1\n",
       " 698     0\n",
       " 204     1\n",
       " 1067    1\n",
       " 1035    1\n",
       " 1479    0\n",
       " 1069    1\n",
       " 1478    0\n",
       " 957     1\n",
       " 254     1\n",
       " 490     0\n",
       " 329     1\n",
       " Name: deceptive, Length: 1200, dtype: int64,\n",
       " 1187    1\n",
       " 1258    0\n",
       " 1474    0\n",
       " 41      1\n",
       " 1532    0\n",
       " 607     0\n",
       " 1503    0\n",
       " 1159    1\n",
       " 1061    1\n",
       " 843     1\n",
       " 910     1\n",
       " 117     1\n",
       " 879     1\n",
       " 840     1\n",
       " 541     0\n",
       " 1484    0\n",
       " 810     1\n",
       " 646     0\n",
       " 989     1\n",
       " 347     1\n",
       " 644     0\n",
       " 1539    0\n",
       " 406     0\n",
       " 198     1\n",
       " 904     1\n",
       " 1226    0\n",
       " 769     0\n",
       " 1141    1\n",
       " 1469    0\n",
       " 877     1\n",
       "        ..\n",
       " 1331    0\n",
       " 748     0\n",
       " 320     1\n",
       " 1437    0\n",
       " 1349    0\n",
       " 1208    0\n",
       " 278     1\n",
       " 1530    0\n",
       " 653     0\n",
       " 1219    0\n",
       " 572     0\n",
       " 802     1\n",
       " 871     1\n",
       " 90      1\n",
       " 421     0\n",
       " 1354    0\n",
       " 967     1\n",
       " 885     1\n",
       " 216     1\n",
       " 662     0\n",
       " 1292    0\n",
       " 1241    0\n",
       " 543     0\n",
       " 818     1\n",
       " 1368    0\n",
       " 1018    1\n",
       " 1554    0\n",
       " 1044    1\n",
       " 89      1\n",
       " 1235    0\n",
       " Name: deceptive, Length: 400, dtype: int64)"
      ]
     },
     "execution_count": 158,
     "metadata": {},
     "output_type": "execute_result"
    }
   ],
   "source": [
    "X_train, X_test, y_train, y_test"
   ]
  },
  {
   "cell_type": "code",
   "execution_count": 159,
   "metadata": {},
   "outputs": [
    {
     "name": "stdout",
     "output_type": "stream",
     "text": [
      "CountVectorizer(analyzer='word', binary=False, decode_error='strict',\n",
      "                dtype=<class 'numpy.int64'>, encoding='utf-8', input='content',\n",
      "                lowercase=True, max_df=1.0, max_features=None, min_df=1,\n",
      "                ngram_range=(1, 1), preprocessor=None, stop_words=None,\n",
      "                strip_accents=None, token_pattern='(?u)\\\\b\\\\w\\\\w+\\\\b',\n",
      "                tokenizer=None, vocabulary=None)\n"
     ]
    }
   ],
   "source": [
    "from sklearn.feature_extraction.text import CountVectorizer\n",
    "count_vector = CountVectorizer()\n",
    "print(count_vector)"
   ]
  },
  {
   "cell_type": "code",
   "execution_count": 160,
   "metadata": {},
   "outputs": [],
   "source": [
    "training_data = count_vector.fit_transform(X_train)\n",
    "testing_data = count_vector.transform(X_test)"
   ]
  },
  {
   "cell_type": "code",
   "execution_count": 161,
   "metadata": {},
   "outputs": [
    {
     "data": {
      "text/plain": [
       "MultinomialNB(alpha=1.0, class_prior=None, fit_prior=True)"
      ]
     },
     "execution_count": 161,
     "metadata": {},
     "output_type": "execute_result"
    }
   ],
   "source": [
    "from sklearn.naive_bayes import MultinomialNB\n",
    "naive_bayes = MultinomialNB()\n",
    "naive_bayes.fit(training_data, y_train)"
   ]
  },
  {
   "cell_type": "code",
   "execution_count": 162,
   "metadata": {},
   "outputs": [],
   "source": [
    "predictions = naive_bayes.predict(testing_data)"
   ]
  },
  {
   "cell_type": "code",
   "execution_count": 164,
   "metadata": {},
   "outputs": [
    {
     "name": "stdout",
     "output_type": "stream",
     "text": [
      "Accuracy score:  0.9025\n",
      "Precision score:  0.9325842696629213\n",
      "Recall score:  0.8601036269430051\n",
      "F1 score:  0.894878706199461\n"
     ]
    }
   ],
   "source": [
    "from sklearn.metrics import accuracy_score, precision_score, recall_score, f1_score\n",
    "mnbaccuracy = accuracy_score(y_test, predictions)\n",
    "print('Accuracy score: ', format(accuracy_score(y_test, predictions)))\n",
    "print('Precision score: ', format(precision_score(y_test, predictions)))\n",
    "print('Recall score: ', format(recall_score(y_test, predictions)))\n",
    "print('F1 score: ', format(f1_score(y_test, predictions)))"
   ]
  },
  {
   "cell_type": "code",
   "execution_count": 165,
   "metadata": {},
   "outputs": [
    {
     "name": "stderr",
     "output_type": "stream",
     "text": [
      "/opt/conda/lib/python3.6/site-packages/sklearn/svm/base.py:193: FutureWarning: The default value of gamma will change from 'auto' to 'scale' in version 0.22 to account better for unscaled features. Set gamma explicitly to 'auto' or 'scale' to avoid this warning.\n",
      "  \"avoid this warning.\", FutureWarning)\n"
     ]
    },
    {
     "data": {
      "text/plain": [
       "SVC(C=1.0, cache_size=200, class_weight=None, coef0=0.0,\n",
       "    decision_function_shape='ovr', degree=3, gamma='auto_deprecated',\n",
       "    kernel='rbf', max_iter=-1, probability=False, random_state=None,\n",
       "    shrinking=True, tol=0.001, verbose=False)"
      ]
     },
     "execution_count": 165,
     "metadata": {},
     "output_type": "execute_result"
    }
   ],
   "source": [
    "from sklearn.svm import SVC \n",
    "svc = SVC()\n",
    "svc.fit(training_data, y_train)"
   ]
  },
  {
   "cell_type": "code",
   "execution_count": 166,
   "metadata": {},
   "outputs": [],
   "source": [
    "svc_predictions = svc.predict(testing_data)"
   ]
  },
  {
   "cell_type": "code",
   "execution_count": 167,
   "metadata": {},
   "outputs": [
    {
     "name": "stdout",
     "output_type": "stream",
     "text": [
      "Accuracy score:  0.5625\n",
      "Precision score:  0.525\n",
      "Recall score:  0.9792746113989638\n",
      "F1 score:  0.6835443037974684\n"
     ]
    }
   ],
   "source": [
    "from sklearn.metrics import accuracy_score\n",
    "svcaccuracy = accuracy_score(y_test,svc_predictions)\n",
    "print('Accuracy score: ', format(accuracy_score(y_test,svc_predictions)))\n",
    "print('Precision score: ', format(precision_score(y_test,svc_predictions)))\n",
    "print('Recall score: ', format(recall_score(y_test, svc_predictions)))\n",
    "print('F1 score: ', format(f1_score(y_test, svc_predictions)))"
   ]
  },
  {
   "cell_type": "code",
   "execution_count": 168,
   "metadata": {},
   "outputs": [
    {
     "data": {
      "text/plain": [
       "KNeighborsClassifier(algorithm='auto', leaf_size=30, metric='minkowski',\n",
       "                     metric_params=None, n_jobs=None, n_neighbors=7, p=2,\n",
       "                     weights='uniform')"
      ]
     },
     "execution_count": 168,
     "metadata": {},
     "output_type": "execute_result"
    }
   ],
   "source": [
    "from sklearn.neighbors import KNeighborsClassifier \n",
    "knn = KNeighborsClassifier(n_neighbors = 7)\n",
    "knn.fit(training_data, y_train)"
   ]
  },
  {
   "cell_type": "code",
   "execution_count": 169,
   "metadata": {},
   "outputs": [],
   "source": [
    "knn_predictions = knn.predict(testing_data)"
   ]
  },
  {
   "cell_type": "code",
   "execution_count": 170,
   "metadata": {},
   "outputs": [
    {
     "name": "stdout",
     "output_type": "stream",
     "text": [
      "Accuracy score:  0.5825\n",
      "Precision score:  0.8421052631578947\n",
      "Recall score:  0.16580310880829016\n",
      "F1 score:  0.27705627705627706\n"
     ]
    }
   ],
   "source": [
    "from sklearn.metrics import accuracy_score\n",
    "knnaccuracy = accuracy_score(knn_predictions,y_test )\n",
    "print('Accuracy score: ', format(accuracy_score(knn_predictions,y_test )))\n",
    "print('Precision score: ', format(precision_score(y_test,knn_predictions)))\n",
    "print('Recall score: ', format(recall_score(y_test, knn_predictions)))\n",
    "print('F1 score: ', format(f1_score(y_test, knn_predictions)))"
   ]
  },
  {
   "cell_type": "code",
   "execution_count": 171,
   "metadata": {},
   "outputs": [
    {
     "data": {
      "text/plain": [
       "GaussianNB(priors=None, var_smoothing=1e-09)"
      ]
     },
     "execution_count": 171,
     "metadata": {},
     "output_type": "execute_result"
    }
   ],
   "source": [
    "from sklearn.naive_bayes import GaussianNB \n",
    "gnb = GaussianNB()\n",
    "training_data1 = training_data.toarray()\n",
    "gnb.fit(training_data1, y_train)"
   ]
  },
  {
   "cell_type": "code",
   "execution_count": 172,
   "metadata": {},
   "outputs": [],
   "source": [
    "testing_data1= testing_data.toarray()\n",
    "gnb_predictions = gnb.predict(testing_data1)"
   ]
  },
  {
   "cell_type": "code",
   "execution_count": 173,
   "metadata": {},
   "outputs": [
    {
     "name": "stdout",
     "output_type": "stream",
     "text": [
      "Accuracy score:  0.665\n",
      "Precision score:  0.6577540106951871\n",
      "Recall score:  0.6373056994818653\n",
      "F1 score:  0.6473684210526316\n"
     ]
    }
   ],
   "source": [
    "from sklearn.metrics import accuracy_score\n",
    "gnb_accuracy = accuracy_score(gnb_predictions,y_test )\n",
    "print('Accuracy score: ', format(accuracy_score(gnb_predictions,y_test )))\n",
    "print('Precision score: ', format(precision_score(y_test,gnb_predictions)))\n",
    "print('Recall score: ', format(recall_score(y_test, gnb_predictions)))\n",
    "print('F1 score: ', format(f1_score(y_test, gnb_predictions)))"
   ]
  },
  {
   "cell_type": "code",
   "execution_count": 174,
   "metadata": {},
   "outputs": [
    {
     "data": {
      "text/plain": [
       "DecisionTreeClassifier(class_weight=None, criterion='gini', max_depth=2,\n",
       "                       max_features=None, max_leaf_nodes=None,\n",
       "                       min_impurity_decrease=0.0, min_impurity_split=None,\n",
       "                       min_samples_leaf=1, min_samples_split=2,\n",
       "                       min_weight_fraction_leaf=0.0, presort=False,\n",
       "                       random_state=None, splitter='best')"
      ]
     },
     "execution_count": 174,
     "metadata": {},
     "output_type": "execute_result"
    }
   ],
   "source": [
    "# training a DescisionTreeClassifier \n",
    "from sklearn.tree import DecisionTreeClassifier \n",
    "dtree_model = DecisionTreeClassifier(max_depth = 2)\n",
    "dtree_model.fit(training_data1, y_train)"
   ]
  },
  {
   "cell_type": "code",
   "execution_count": 175,
   "metadata": {},
   "outputs": [],
   "source": [
    "dtree_predictions = dtree_model.predict(testing_data) "
   ]
  },
  {
   "cell_type": "code",
   "execution_count": 176,
   "metadata": {},
   "outputs": [
    {
     "name": "stdout",
     "output_type": "stream",
     "text": [
      "Accuracy score:  0.66\n",
      "Precision score:  0.6255506607929515\n",
      "Recall score:  0.7357512953367875\n",
      "F1 score:  0.6761904761904761\n"
     ]
    }
   ],
   "source": [
    "from sklearn.metrics import accuracy_score\n",
    "dtree_accuracy = accuracy_score(dtree_predictions,y_test )\n",
    "print('Accuracy score: ', format(accuracy_score(dtree_predictions,y_test )))\n",
    "print('Precision score: ', format(precision_score(y_test,dtree_predictions)))\n",
    "print('Recall score: ', format(recall_score(y_test, dtree_predictions)))\n",
    "print('F1 score: ', format(f1_score(y_test, dtree_predictions)))"
   ]
  },
  {
   "cell_type": "code",
   "execution_count": 178,
   "metadata": {},
   "outputs": [],
   "source": [
    "from sklearn.linear_model import SGDClassifier"
   ]
  },
  {
   "cell_type": "code",
   "execution_count": 179,
   "metadata": {},
   "outputs": [
    {
     "data": {
      "text/plain": [
       "SGDClassifier(alpha=0.0001, average=False, class_weight=None,\n",
       "              early_stopping=False, epsilon=0.1, eta0=0.0, fit_intercept=True,\n",
       "              l1_ratio=0.15, learning_rate='optimal', loss='hinge',\n",
       "              max_iter=1000, n_iter_no_change=5, n_jobs=None, penalty='l2',\n",
       "              power_t=0.5, random_state=None, shuffle=True, tol=0.001,\n",
       "              validation_fraction=0.1, verbose=0, warm_start=False)"
      ]
     },
     "execution_count": 179,
     "metadata": {},
     "output_type": "execute_result"
    }
   ],
   "source": [
    "sgd_clf = SGDClassifier()\n",
    "sgd_clf.fit(training_data, y_train)"
   ]
  },
  {
   "cell_type": "code",
   "execution_count": 180,
   "metadata": {},
   "outputs": [],
   "source": [
    "sgdpredicted = sgd_clf.predict(testing_data)"
   ]
  },
  {
   "cell_type": "code",
   "execution_count": 181,
   "metadata": {},
   "outputs": [
    {
     "name": "stdout",
     "output_type": "stream",
     "text": [
      "Accuracy score:  0.8775\n",
      "Precision score:  0.8913043478260869\n",
      "Recall score:  0.8497409326424871\n",
      "F1 score:  0.8700265251989391\n"
     ]
    }
   ],
   "source": [
    "from sklearn.metrics import accuracy_score\n",
    "sgd_accuracy = accuracy_score(sgdpredicted,y_test )\n",
    "print('Accuracy score: ', format(accuracy_score(sgdpredicted,y_test )))\n",
    "print('Precision score: ', format(precision_score(y_test,sgdpredicted)))\n",
    "print('Recall score: ', format(recall_score(y_test, sgdpredicted)))\n",
    "print('F1 score: ', format(f1_score(y_test, sgdpredicted)))"
   ]
  },
  {
   "cell_type": "code",
   "execution_count": 184,
   "metadata": {},
   "outputs": [],
   "source": [
    "from sklearn.linear_model import LogisticRegression"
   ]
  },
  {
   "cell_type": "code",
   "execution_count": 185,
   "metadata": {},
   "outputs": [
    {
     "name": "stderr",
     "output_type": "stream",
     "text": [
      "/opt/conda/lib/python3.6/site-packages/sklearn/linear_model/logistic.py:432: FutureWarning: Default solver will be changed to 'lbfgs' in 0.22. Specify a solver to silence this warning.\n",
      "  FutureWarning)\n"
     ]
    },
    {
     "data": {
      "text/plain": [
       "LogisticRegression(C=1.0, class_weight=None, dual=False, fit_intercept=True,\n",
       "                   intercept_scaling=1, l1_ratio=None, max_iter=100,\n",
       "                   multi_class='warn', n_jobs=None, penalty='l2',\n",
       "                   random_state=None, solver='warn', tol=0.0001, verbose=0,\n",
       "                   warm_start=False)"
      ]
     },
     "execution_count": 185,
     "metadata": {},
     "output_type": "execute_result"
    }
   ],
   "source": [
    "lr = LogisticRegression()\n",
    "lr.fit(training_data, y_train)"
   ]
  },
  {
   "cell_type": "code",
   "execution_count": 186,
   "metadata": {},
   "outputs": [],
   "source": [
    "lrpredicted = lr.predict(testing_data)"
   ]
  },
  {
   "cell_type": "code",
   "execution_count": 187,
   "metadata": {},
   "outputs": [
    {
     "name": "stdout",
     "output_type": "stream",
     "text": [
      "Accuracy score:  0.87\n",
      "Precision score:  0.8691099476439791\n",
      "Recall score:  0.8601036269430051\n",
      "F1 score:  0.8645833333333333\n"
     ]
    }
   ],
   "source": [
    "from sklearn.metrics import accuracy_score\n",
    "lr_accuracy = accuracy_score(lrpredicted,y_test )\n",
    "print('Accuracy score: ', format(accuracy_score(lrpredicted,y_test )))\n",
    "print('Precision score: ', format(precision_score(y_test,lrpredicted)))\n",
    "print('Recall score: ', format(recall_score(y_test, lrpredicted)))\n",
    "print('F1 score: ', format(f1_score(y_test, lrpredicted)))"
   ]
  },
  {
   "cell_type": "code",
   "execution_count": 188,
   "metadata": {},
   "outputs": [
    {
     "name": "stdout",
     "output_type": "stream",
     "text": [
      "Multinomial Naive Bayes: 0.9025\n",
      "Gausian Naive Bayes: 0.665\n",
      "Decision tree: 0.66\n",
      "Support Vector Classifier: 0.5625\n",
      "K-Nearest Neighbour: 0.5825\n",
      "Stochastic Gradient Descent: 0.8775\n",
      "LogisticRegression: 0.87\n"
     ]
    }
   ],
   "source": [
    "print('Multinomial Naive Bayes:',mnbaccuracy)\n",
    "print('Gausian Naive Bayes:',gnb_accuracy)\n",
    "print('Decision tree:',dtree_accuracy)\n",
    "print('Support Vector Classifier:',svcaccuracy)\n",
    "print('K-Nearest Neighbour:',knnaccuracy)\n",
    "print('Stochastic Gradient Descent:',sgd_accuracy)\n",
    "print('LogisticRegression:',lr_accuracy)"
   ]
  },
  {
   "cell_type": "code",
   "execution_count": null,
   "metadata": {},
   "outputs": [],
   "source": [
    "from sklearn.cluster import KMeans\n",
    "kmeans = KMeans(n_clusters=2)\n",
    "kmeans.fit(training_data)\n",
    "y_kmeans = kmeans.predict(training_data)"
   ]
  },
  {
   "cell_type": "code",
   "execution_count": null,
   "metadata": {},
   "outputs": [],
   "source": [
    "%matplotlib inline\n",
    "import matplotlib.pyplot as plt\n",
    "import seaborn as sns; sns.set() "
   ]
  },
  {
   "cell_type": "code",
   "execution_count": null,
   "metadata": {},
   "outputs": [],
   "source": [
    "from nltk.stem.porter import PorterStemmer\n",
    "from nltk.corpus import stopwords"
   ]
  },
  {
   "cell_type": "code",
   "execution_count": null,
   "metadata": {},
   "outputs": [],
   "source": [
    "ps = PorterStemmer()"
   ]
  },
  {
   "cell_type": "code",
   "execution_count": null,
   "metadata": {},
   "outputs": [],
   "source": [
    "stemmed_dataset = []\n",
    "for i in range(0,1600):\n",
    "    stemmed_array = df['text'][i].split()\n",
    "    stemmed = [ps.stem(word) for word in stemmed_array if not word in set(stopwords.words('english'))]\n",
    "    stemmed = ' '.join(stemmed)\n",
    "    stemmed_dataset.append(stemmed)"
   ]
  },
  {
   "cell_type": "code",
   "execution_count": null,
   "metadata": {},
   "outputs": [],
   "source": [
    "print(stemmed[0:1600])"
   ]
  },
  {
   "cell_type": "code",
   "execution_count": null,
   "metadata": {},
   "outputs": [],
   "source": [
    "from sklearn.feature_extraction.text import CountVectorizer"
   ]
  },
  {
   "cell_type": "code",
   "execution_count": null,
   "metadata": {},
   "outputs": [],
   "source": [
    "cv = CountVectorizer()\n",
    "X = cv.fit_transform(stemmed_dataset)"
   ]
  },
  {
   "cell_type": "code",
   "execution_count": null,
   "metadata": {},
   "outputs": [],
   "source": [
    "from sklearn.cluster import KMeans\n",
    "wcss =[]"
   ]
  },
  {
   "cell_type": "code",
   "execution_count": null,
   "metadata": {},
   "outputs": [],
   "source": [
    "for i in range(1,1600):\n",
    "    kmeans =  KMeans(n_clusters=i, init='k-means++', max_iter = 300, n_init=10, random_state = 0, verbose=True)\n",
    "    kmeans.fit(X)\n",
    "    wcss.append(kmeans.inertia_)"
   ]
  },
  {
   "cell_type": "code",
   "execution_count": null,
   "metadata": {},
   "outputs": [],
   "source": []
  }
 ],
 "metadata": {
  "kernelspec": {
   "display_name": "Python 3 (ipykernel)",
   "language": "python",
   "name": "python3"
  },
  "language_info": {
   "codemirror_mode": {
    "name": "ipython",
    "version": 3
   },
   "file_extension": ".py",
   "mimetype": "text/x-python",
   "name": "python",
   "nbconvert_exporter": "python",
   "pygments_lexer": "ipython3",
   "version": "3.11.4"
  }
 },
 "nbformat": 4,
 "nbformat_minor": 1
}
